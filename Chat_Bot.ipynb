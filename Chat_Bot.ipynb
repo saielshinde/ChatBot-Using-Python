{
  "nbformat": 4,
  "nbformat_minor": 0,
  "metadata": {
    "colab": {
      "provenance": []
    },
    "kernelspec": {
      "name": "python3",
      "display_name": "Python 3"
    },
    "language_info": {
      "name": "python"
    }
  },
  "cells": [
    {
      "cell_type": "code",
      "execution_count": 1,
      "metadata": {
        "id": "BBnOcRRTXEfr"
      },
      "outputs": [],
      "source": [
        "from nltk.chat.util import Chat, reflections"
      ]
    },
    {
      "cell_type": "code",
      "source": [
        "#Pairs is a list of patterns and responses.\n",
        "pairs = [\n",
        "    [\n",
        "        r\"(.*)my name is (.*)\",\n",
        "        [\"Hello %2, How are you today ?\",]\n",
        "    ],\n",
        "    [\n",
        "        r\"(.*)help(.*) \",\n",
        "        [\"I can help you \",]\n",
        "    ],\n",
        "     [\n",
        "        r\"(.*) your name ?\",\n",
        "        [\"My name is thecleverprogrammer, but you can just call me robot and I'm a chatbot .\",]\n",
        "    ],\n",
        "    [\n",
        "        r\"how are you (.*) ?\",\n",
        "        [\"I'm doing very well\", \"i am great !\"]\n",
        "    ],\n",
        "    [\n",
        "        r\"sorry (.*)\",\n",
        "        [\"Its alright\",\"Its OK, never mind that\",]\n",
        "    ],\n",
        "    [\n",
        "        r\"i'm (.*) (good|well|okay|ok)\",\n",
        "        [\"Nice to hear that\",\"Alright, great !\",]\n",
        "    ],\n",
        "    [\n",
        "        r\"(hi|hey|hello|hola|holla)(.*)\",\n",
        "        [\"Hello\", \"Hey there\",]\n",
        "    ],\n",
        "    [\n",
        "        r\"what (.*) want ?\",\n",
        "        [\"Make me an offer I can't refuse\",]\n",
        "        \n",
        "    ],\n",
        "    [\n",
        "        r\"(.*)created(.*)\",\n",
        "        [\"Aman Kharwal created me using Python's NLTK library \",\"top secret ;)\",]\n",
        "    ],\n",
        "    [\n",
        "        r\"(.*) (location|city) ?\",\n",
        "        ['New Delhi, India',]\n",
        "    ],\n",
        "    [\n",
        "        r\"(.*)raining in (.*)\",\n",
        "        [\"No rain in the past 4 days here in %2\",\"In %2 there is a 50% chance of rain\",]\n",
        "    ],\n",
        "    [\n",
        "        r\"how (.*) health (.*)\",\n",
        "        [\"Health is very important, but I am a computer, so I don't need to worry about my health \",]\n",
        "    ],\n",
        "    [\n",
        "        r\"(.*)(sports|game|sport)(.*)\",\n",
        "        [\"I'm a very big fan of Cricket\",]\n",
        "    ],\n",
        "    [\n",
        "        r\"who (.*) (Cricketer|Batsman)?\",\n",
        "        [\"Virat Kohli\"]\n",
        "    ],\n",
        "    [\n",
        "        r\"quit\",\n",
        "        [\"Bye for now. See you soon :) \",\"It was nice talking to you. See you soon :)\"]\n",
        "    ],\n",
        "    [\n",
        "        r\"(.*)\",\n",
        "        ['That is nice to hear']\n",
        "    ],\n",
        "]"
      ],
      "metadata": {
        "id": "VRGFjuGcXcJV"
      },
      "execution_count": 2,
      "outputs": []
    },
    {
      "cell_type": "code",
      "source": [
        "print(\"Hi, I'm thecleverprogrammer and I like to chat\\nPlease type lowercase English language to start a conversation. Type quit to leave \")\n",
        "#Create Chat Bot\n",
        "chat = Chat(pairs, reflections)\n",
        "#Start conversation\n",
        "chat.converse()"
      ],
      "metadata": {
        "colab": {
          "base_uri": "https://localhost:8080/"
        },
        "id": "gmiQnShjXiLu",
        "outputId": "1d13b3eb-f4f5-4203-f312-ab9fd2ec406f"
      },
      "execution_count": null,
      "outputs": [
        {
          "output_type": "stream",
          "name": "stdout",
          "text": [
            "Hi, I'm thecleverprogrammer and I like to chat\n",
            "Please type lowercase English language to start a conversation. Type quit to leave \n",
            ">hi how are you\n",
            "Hey there\n",
            ">where r u from\n",
            "That is nice to hear\n",
            ">how are you?\n",
            "That is nice to hear\n"
          ]
        }
      ]
    }
  ]
}